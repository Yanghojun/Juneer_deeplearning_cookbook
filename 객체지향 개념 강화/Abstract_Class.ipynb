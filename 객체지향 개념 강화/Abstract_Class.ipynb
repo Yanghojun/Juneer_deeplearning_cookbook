{
 "cells": [
  {
   "cell_type": "code",
   "execution_count": 28,
   "metadata": {},
   "outputs": [
    {
     "name": "stdout",
     "output_type": "stream",
     "text": [
      "### 호준 방식대로 라면 끓이기\n",
      "물 500ml 넣기!\n",
      "5분동안 끓이기!\n",
      "수프는 1/3 만 넣기!\n",
      "--------------------------------------------------\n",
      "### 문형 방식대로 라면 끓이기\n",
      "물 2000ml 넣기!\n",
      "8분동안 끓이기!\n",
      "수프 가득 넣기!\n"
     ]
    }
   ],
   "source": [
    "# 추상클래스 구현\n",
    "from abc import *\n",
    "\n",
    "class NoddleReceipe(metaclass=ABCMeta):\n",
    "    def make_noddle(self):\n",
    "        self.set_water()\n",
    "        self.boil_water()\n",
    "        self.input_soup()\n",
    "\n",
    "    @abstractmethod\n",
    "    def set_water():\n",
    "        raise NotImplementedError\n",
    "\n",
    "    @abstractmethod\n",
    "    def boil_water():\n",
    "        raise NotImplementedError\n",
    "    \n",
    "    @abstractmethod\n",
    "    def input_soup():\n",
    "        raise NotImplementedError\n",
    "\n",
    "class Hojun(NoddleReceipe):\n",
    "    def __init__(self, weight):\n",
    "        self.weight = weight\n",
    "\n",
    "    def set_water(self):\n",
    "        print(\"물 500ml 넣기!\")\n",
    "    \n",
    "    def boil_water(self):\n",
    "        print(\"5분동안 끓이기!\")\n",
    "\n",
    "    def input_soup(self):\n",
    "        print(\"수프는 1/3 만 넣기!\")\n",
    "\n",
    "class Munhyung(NoddleReceipe):\n",
    "    def __init__(self, weight):\n",
    "        self.weight = weight\n",
    "\n",
    "    def set_water(self):\n",
    "        print(\"물 2000ml 넣기!\")\n",
    "    \n",
    "    def boil_water(self):\n",
    "        print(\"8분동안 끓이기!\")\n",
    "    \n",
    "    def input_soup(self):\n",
    "        print(\"수프 가득 넣기!\")\n",
    "\n",
    "hojun = Hojun(65)\n",
    "munhyung = Munhyung(90)\n",
    "print(\"### 호준 방식대로 라면 끓이기\")\n",
    "hojun.make_noddle()\n",
    "print('-' * 50)\n",
    "print(\"### 문형 방식대로 라면 끓이기\")\n",
    "munhyung.make_noddle()"
   ]
  },
  {
   "cell_type": "code",
   "execution_count": null,
   "metadata": {},
   "outputs": [],
   "source": []
  }
 ],
 "metadata": {
  "kernelspec": {
   "display_name": "Python 3.9.7 ('beatgan')",
   "language": "python",
   "name": "python3"
  },
  "language_info": {
   "codemirror_mode": {
    "name": "ipython",
    "version": 3
   },
   "file_extension": ".py",
   "mimetype": "text/x-python",
   "name": "python",
   "nbconvert_exporter": "python",
   "pygments_lexer": "ipython3",
   "version": "3.9.7"
  },
  "orig_nbformat": 4,
  "vscode": {
   "interpreter": {
    "hash": "3d1945c72060310eb38760f076eab951a8a78080242ff89c885cc270f99df6d4"
   }
  }
 },
 "nbformat": 4,
 "nbformat_minor": 2
}
