{
 "cells": [
  {
   "cell_type": "code",
   "execution_count": 5,
   "source": [
    "from collections import defaultdict\r\n",
    "import logging"
   ],
   "outputs": [],
   "metadata": {}
  },
  {
   "cell_type": "code",
   "execution_count": 6,
   "source": [
    "class BySubjectGradebook:\r\n",
    "    def __init__(self):\r\n",
    "        self._grades = {}\r\n",
    "    \r\n",
    "    def add_student(self, name):\r\n",
    "        self._grades[name] = defaultdict(list)\r\n",
    "    \r\n",
    "    def report_grade(self, name, subject, grade):\r\n",
    "        by_subject = self._grades[name]\r\n",
    "        print(by_subject)\r\n",
    "        grade_list = by_subject[subject]\r\n",
    "        print(grade_list)\r\n",
    "        grade_list.append(grade)\r\n",
    "    \r\n",
    "    def average_grade(self, name):\r\n",
    "        by_subject = self._grades[name]\r\n",
    "        total, count = 0, 0\r\n",
    "        for grades in by_subject.values():\r\n",
    "            total += sum(grades)\r\n",
    "            count += len(grades)\r\n",
    "        return total / count"
   ],
   "outputs": [],
   "metadata": {}
  },
  {
   "cell_type": "code",
   "execution_count": 7,
   "source": [
    "book = BySubjectGradebook()\r\n",
    "book.add_student('알버트 아인슈타인')\r\n",
    "book.report_grade('알버트 아인슈타인', '수학', 75)\r\n",
    "book.report_grade('알버트 아인슈타인', '수학', 65)\r\n",
    "print(book.average_grade('알버트 아인슈타인'))"
   ],
   "outputs": [
    {
     "output_type": "stream",
     "name": "stdout",
     "text": [
      "defaultdict(<class 'list'>, {})\n",
      "[]\n",
      "defaultdict(<class 'list'>, {'수학': [75]})\n",
      "[75]\n",
      "70.0\n"
     ]
    }
   ],
   "metadata": {}
  },
  {
   "cell_type": "code",
   "execution_count": 8,
   "source": [
    "a = {'1': 3}\r\n",
    "a['1'] = 5\r\n",
    "\r\n",
    "print(a)"
   ],
   "outputs": [
    {
     "output_type": "stream",
     "name": "stdout",
     "text": [
      "{'1': 5}\n"
     ]
    }
   ],
   "metadata": {}
  },
  {
   "cell_type": "code",
   "execution_count": 10,
   "source": [
    "class InputData:\r\n",
    "    def read(self):\r\n",
    "        raise NotImplementedError\r\n",
    "\r\n",
    "class PathInputData(InputData):\r\n",
    "    def __init__(self, path):\r\n",
    "        super().__init__()\r\n",
    "        self.path = path\r\n",
    "\r\n",
    "pid = PathInputData('./c')"
   ],
   "outputs": [],
   "metadata": {}
  },
  {
   "cell_type": "code",
   "execution_count": 11,
   "source": [
    "pid"
   ],
   "outputs": [
    {
     "output_type": "execute_result",
     "data": {
      "text/plain": [
       "<__main__.PathInputData at 0x13b6d52eca0>"
      ]
     },
     "metadata": {},
     "execution_count": 11
    }
   ],
   "metadata": {}
  },
  {
   "cell_type": "code",
   "execution_count": 1,
   "source": [
    "import numpy as np\r\n",
    "\r\n",
    "a = np.array([1,2,3])\r\n",
    "print(a.shape)\r\n",
    "print(np.array(a).shape)"
   ],
   "outputs": [
    {
     "output_type": "stream",
     "name": "stdout",
     "text": [
      "(3,)\n",
      "(3,)\n"
     ]
    }
   ],
   "metadata": {}
  },
  {
   "cell_type": "code",
   "execution_count": null,
   "source": [],
   "outputs": [],
   "metadata": {}
  }
 ],
 "metadata": {
  "orig_nbformat": 4,
  "language_info": {
   "name": "python",
   "version": "3.8.6",
   "mimetype": "text/x-python",
   "codemirror_mode": {
    "name": "ipython",
    "version": 3
   },
   "pygments_lexer": "ipython3",
   "nbconvert_exporter": "python",
   "file_extension": ".py"
  },
  "kernelspec": {
   "name": "python3",
   "display_name": "Python 3.8.6 64-bit ('beatgan': conda)"
  },
  "interpreter": {
   "hash": "65daee3dc08e781d3fe7bb182b357c3ced9b7575ff5f2d668fa914c4b81ae2f5"
  }
 },
 "nbformat": 4,
 "nbformat_minor": 2
}